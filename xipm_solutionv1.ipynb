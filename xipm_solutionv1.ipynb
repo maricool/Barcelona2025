{
 "cells": [
  {
   "cell_type": "code",
   "execution_count": 18,
   "metadata": {},
   "outputs": [],
   "source": [
    "from astropy.table import Table\n",
    "import numpy as np"
   ]
  },
  {
   "cell_type": "code",
   "execution_count": 28,
   "metadata": {},
   "outputs": [],
   "source": [
    "cat = Table.read('catalogue.fits')"
   ]
  },
  {
   "cell_type": "code",
   "execution_count": 34,
   "metadata": {},
   "outputs": [],
   "source": [
    "# Run TreeCorr\n",
    "import treecorr\n",
    "def runTreecorr(fitscat1,fitscat2,ra_name,dec_name,unitname,e1name,e2name,weightname,\n",
    "\t\t\t\ttheta_min = \"0.5\", theta_max = \"300.0\", nbins='1000', sep_units = 'arcmin', bin_slop = 1.5):\n",
    "\tcat1 = treecorr.Catalog(fitscat1, ra_col=ra_name, dec_col=dec_name, ra_units=unitname, dec_units=unitname, \n",
    "                                          g1_col=e1name, g2_col=e2name, w_col=weightname)\n",
    "\tcat2 = treecorr.Catalog(fitscat2, ra_col=ra_name, dec_col=dec_name, ra_units=unitname, dec_units=unitname, \n",
    "                                          g1_col=e1name, g2_col=e2name, w_col=weightname)\n",
    "\tgg = treecorr.GGCorrelation(min_sep=theta_min, max_sep=theta_max, nbins=nbins, sep_units=sep_units, \\\n",
    "            bin_slop=bin_slop)\n",
    "\tgg.process(cat1, cat2)\n",
    "\treturn gg\n",
    "\n",
    "def write_to_file(outfile, col_names, columns, precision):\n",
    "\tncol = len(col_names)\n",
    "\tdata = np.empty( (len(columns[0]), ncol) )\n",
    "\tfor i,col in enumerate(columns):\n",
    "\t\tdata[:,i] = col\n",
    "# \n",
    "\twidth = precision+8\n",
    "\tfmt = '%%%d.%de'%(width, precision)\n",
    "\t# Note: The first one is 1 shorter to allow space for the initial #.\n",
    "\theader = (\"#\" + \"{:^%d}\"%(width-1) +\n",
    "                    \" {:^%d}\"%(width) * (ncol-1) + \"\\n\").format(*col_names)\n",
    "\tnp.savetxt(outfile, data, fmt=fmt, header=header)\n"
   ]
  },
  {
   "cell_type": "code",
   "execution_count": 35,
   "metadata": {},
   "outputs": [],
   "source": [
    "\n",
    "ra_name    = 'RAJ2000'\n",
    "dec_name   = 'DECJ2000'\n",
    "e1name     = 'gamma1'\n",
    "e2name     = 'gamma2'\n",
    "unitname   = 'deg'\n",
    "sep_units  = 'arcmin'\n",
    "weightname = None\n",
    "weightsqname = None\n",
    "theta_min  = 0.5\n",
    "theta_max  = 300.0\n",
    "nbins      = 10\n",
    "\n",
    "inbinslop = 0.3\n",
    "num_threads = 4\n",
    "# nPatches = 50\n",
    "\n",
    "fitscat1 ='catalogue.fits'\n",
    "fitscat2 ='catalogue.fits'\n",
    "\n",
    "gg = runTreecorr(fitscat1,fitscat2,ra_name,dec_name,unitname,e1name,e2name,weightname,\n",
    "\t\t\t\ttheta_min = theta_min, theta_max = theta_max, nbins=nbins,sep_units = sep_units,bin_slop = inbinslop)\n",
    "\n",
    "write_to_file('xipm_treecorr',\n",
    "                ['r_nom','meanr','meanlogr','xip','xim','xip_im','xim_im','sigma_xip', 'npairs'],\n",
    "                [ gg.rnom,gg.meanr, gg.meanlogr,gg.xip, gg.xim, gg.xip_im, gg.xim_im, np.sqrt(gg.varxip), gg.npairs], \n",
    "\t\t\t\tprecision=12)\n"
   ]
  }
 ],
 "metadata": {
  "kernelspec": {
   "display_name": "Python 3",
   "language": "python",
   "name": "python3"
  },
  "language_info": {
   "codemirror_mode": {
    "name": "ipython",
    "version": 3
   },
   "file_extension": ".py",
   "mimetype": "text/x-python",
   "name": "python",
   "nbconvert_exporter": "python",
   "pygments_lexer": "ipython3",
   "version": "3.11.5"
  }
 },
 "nbformat": 4,
 "nbformat_minor": 2
}
